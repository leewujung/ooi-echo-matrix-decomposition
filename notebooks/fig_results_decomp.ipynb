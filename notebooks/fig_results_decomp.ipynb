{
 "cells": [
  {
   "cell_type": "markdown",
   "metadata": {},
   "source": [
    "# Fig. 4. Decomposition results at rank=3"
   ]
  },
  {
   "cell_type": "code",
   "execution_count": 1,
   "metadata": {},
   "outputs": [],
   "source": [
    "import os\n",
    "import glob\n",
    "from collections import defaultdict\n",
    "import numpy as np\n",
    "import matplotlib.pyplot as plt\n",
    "import matplotlib.dates as mdates\n",
    "import xarray as xr\n",
    "import tsnmf"
   ]
  },
  {
   "cell_type": "markdown",
   "metadata": {},
   "source": [
    "## Load low-rank MVBS data"
   ]
  },
  {
   "cell_type": "code",
   "execution_count": 2,
   "metadata": {},
   "outputs": [],
   "source": [
    "MVBS_PCP_path = '../data/'\n",
    "MVBS_rpca_file = '20150817-20151017_MVBS_time_Sv_rangeBin5_all_corrected_rpca.nc'"
   ]
  },
  {
   "cell_type": "code",
   "execution_count": 3,
   "metadata": {},
   "outputs": [],
   "source": [
    "MVBS_rpca = xr.open_dataset(os.path.join(MVBS_PCP_path, MVBS_rpca_file))\n",
    "low_rank = MVBS_rpca['low_rank']\n",
    "n_observations, n_frequencies, n_depth_levels, n_pings = low_rank.shape"
   ]
  },
  {
   "cell_type": "code",
   "execution_count": 4,
   "metadata": {},
   "outputs": [],
   "source": [
    "low_rank = low_rank.values.reshape([n_observations,-1])"
   ]
  },
  {
   "cell_type": "code",
   "execution_count": 5,
   "metadata": {},
   "outputs": [
    {
     "data": {
      "text/plain": [
       "(62, 15984)"
      ]
     },
     "execution_count": 5,
     "metadata": {},
     "output_type": "execute_result"
    }
   ],
   "source": [
    "low_rank_nonneg = low_rank - low_rank.min()\n",
    "low_rank_nonneg.shape"
   ]
  },
  {
   "cell_type": "markdown",
   "metadata": {},
   "source": [
    "## tsNMF decomposition"
   ]
  },
  {
   "cell_type": "markdown",
   "metadata": {},
   "source": [
    "From previous analysis we selected the tsNMF run at rank=4 with `random_seed=960`. Here we use this initial condition to perform the decomposition again."
   ]
  },
  {
   "cell_type": "code",
   "execution_count": 6,
   "metadata": {},
   "outputs": [
    {
     "name": "stdout",
     "output_type": "stream",
     "text": [
      "Stopping at iteration 702\n"
     ]
    }
   ],
   "source": [
    "model = tsnmf.smoothNMF(n_components=3, \n",
    "                        max_iter=2000, \n",
    "                        smoothness=500000, \n",
    "                        sparsity=0, \n",
    "                        early_stopping={'type': 'cost'}\n",
    "                       )\n",
    "model.fit(low_rank_nonneg.T, init='random', random_state=1190)"
   ]
  },
  {
   "cell_type": "markdown",
   "metadata": {},
   "source": [
    "We normalize the $\\mathbf{W}$ components by its norm and multiply the norm to the $\\mathbf{H}$ activations."
   ]
  },
  {
   "cell_type": "code",
   "execution_count": 7,
   "metadata": {},
   "outputs": [],
   "source": [
    "H_multW = (model.H.T * np.linalg.norm(model.W, axis=0)).T\n",
    "W_divW = model.W / np.linalg.norm(model.W, axis=0)"
   ]
  },
  {
   "cell_type": "markdown",
   "metadata": {},
   "source": [
    "Set the plotting sequence of components so the results can be easily compared with rank=3 results."
   ]
  },
  {
   "cell_type": "code",
   "execution_count": 8,
   "metadata": {},
   "outputs": [],
   "source": [
    "comp_seq_idx = np.array([0,2,1])"
   ]
  },
  {
   "cell_type": "markdown",
   "metadata": {},
   "source": [
    "## Fig. 4."
   ]
  },
  {
   "cell_type": "markdown",
   "metadata": {},
   "source": [
    "Reshape the normalized H and W for plotting:"
   ]
  },
  {
   "cell_type": "code",
   "execution_count": 9,
   "metadata": {},
   "outputs": [
    {
     "data": {
      "text/plain": [
       "((3, 62), (15984, 3))"
      ]
     },
     "execution_count": 9,
     "metadata": {},
     "output_type": "execute_result"
    }
   ],
   "source": [
    "H_multW.shape, W_divW.shape"
   ]
  },
  {
   "cell_type": "code",
   "execution_count": 10,
   "metadata": {},
   "outputs": [],
   "source": [
    "Ws_reshaped = W_divW[:, comp_seq_idx].T.reshape(3, n_frequencies*n_depth_levels, n_pings)\n",
    "Hs_reshaped = H_multW[comp_seq_idx, :].T"
   ]
  },
  {
   "cell_type": "code",
   "execution_count": 11,
   "metadata": {},
   "outputs": [],
   "source": [
    "import datetime"
   ]
  },
  {
   "cell_type": "code",
   "execution_count": 12,
   "metadata": {},
   "outputs": [],
   "source": [
    "# Assemble dataset for activation\n",
    "ds_activation = xr.Dataset(\n",
    "    {\n",
    "        'H': (['day', 'component'], Hs_reshaped)\n",
    "    },\n",
    "    coords={\n",
    "        'component': np.arange(3),\n",
    "        'day': MVBS_rpca['low_rank'].date.values\n",
    "    }\n",
    ")"
   ]
  },
  {
   "cell_type": "code",
   "execution_count": 13,
   "metadata": {},
   "outputs": [],
   "source": [
    "panel_ls=12\n",
    "title_ls=10\n",
    "freq_ls=8\n",
    "comp_ls=8\n",
    "axis_ls=8\n",
    "legend_ls=6\n",
    "tick_ls=8\n",
    "pad_size=1"
   ]
  },
  {
   "cell_type": "code",
   "execution_count": 14,
   "metadata": {},
   "outputs": [],
   "source": [
    "cmap = plt.cm.get_cmap('YlGnBu')\n",
    "\n",
    "# Set custom color cycle\n",
    "from cycler import cycler\n",
    "# mpl.rcParams['axes.prop_cycle'] = cycler(color='bgrcmyk')  # default mpl color cycle\n",
    "# plt.rcParams['axes.prop_cycle'] = cycler(color='cmbgryk')\n",
    "plt.rcParams['axes.prop_cycle'] = cycler(color=cmap([0.3,0.6,1.0]))"
   ]
  },
  {
   "cell_type": "code",
   "execution_count": 15,
   "metadata": {},
   "outputs": [],
   "source": [
    "def set_ax_ticks(ax):\n",
    "    \"\"\"Plot the tick marks for component panels\n",
    "    \"\"\"\n",
    "    ax.set_xticks([])\n",
    "    ax.set_yticks(np.arange(0,n_depth_levels*3,n_depth_levels)-1)\n",
    "    ax.set_yticklabels('')\n",
    "    ax.grid()\n",
    "#     ax.grid(alpha=0.5)"
   ]
  },
  {
   "cell_type": "code",
   "execution_count": 16,
   "metadata": {},
   "outputs": [],
   "source": [
    "def plot_daily_echogram_colorbar(im, ax1, ax2):\n",
    "    pos_ax_left = ax1.get_position()\n",
    "    pos_ax_right = ax2.get_position()\n",
    "    cax = fig.add_axes([pos_ax_right.x0+pos_ax_right.width+0.015, \n",
    "                            pos_ax_left.y0, \n",
    "                            0.015, \n",
    "                            pos_ax_right.height])\n",
    "    cbar = plt.colorbar(im, cax=cax)\n",
    "    cbar.set_ticks(np.arange(0,0.035,0.01))\n",
    "    cbar.ax.tick_params(labelsize=tick_ls, pad=pad_size)\n",
    "    return cbar"
   ]
  },
  {
   "cell_type": "code",
   "execution_count": 17,
   "metadata": {},
   "outputs": [],
   "source": [
    "def plot_daily_echogram():\n",
    "    vmin, vmax = Ws_reshaped.min(), Ws_reshaped.max()  # common colorbar for all components\n",
    "    ax_pattern = []\n",
    "    for seq in range(3):  # loop through 3 components\n",
    "        ax_pattern.append(fig.add_subplot(gs_L[0,seq]))\n",
    "        im = ax_pattern[-1].imshow(Ws_reshaped[seq,:,:], aspect='auto',\n",
    "                                   vmax=vmax, vmin=vmin, cmap='magma')\n",
    "        set_ax_ticks(ax_pattern[-1])\n",
    "    plot_daily_echogram_colorbar(im, ax_pattern[0], ax_pattern[2])\n",
    "    return ax_pattern"
   ]
  },
  {
   "cell_type": "code",
   "execution_count": 18,
   "metadata": {},
   "outputs": [],
   "source": [
    "def plot_activation():\n",
    "    ax_activation = fig.add_subplot(gs_R[0])\n",
    "    h1 = ds_activation.H.plot.line(x='day', ax=ax_activation,\n",
    "                                   add_legend=False, _labels=False)\n",
    "    ax_activation.xaxis.set_major_locator(\n",
    "        mdates.MonthLocator(bymonth=range(8,11), bymonthday=[1,15]))\n",
    "    ax_activation.xaxis.set_major_formatter(mdates.DateFormatter('%b-%d'))\n",
    "    ax_activation.xaxis.set_minor_locator(mdates.AutoDateLocator())\n",
    "    ax_activation.set_xlim([datetime.date(2015,8,16), datetime.date(2015,10,18)])\n",
    "#     ax_activation.set_ylim(0, 2700)\n",
    "    ax_activation.set_title('')\n",
    "    ax_activation.tick_params(labelsize=tick_ls, pad=pad_size)\n",
    "    return ax_activation"
   ]
  },
  {
   "cell_type": "code",
   "execution_count": 19,
   "metadata": {},
   "outputs": [],
   "source": [
    "def plot_daily_echogram_pattern_scale():\n",
    "    gs_ex = fig.add_gridspec(1,1, bottom=0.48, top=0.58, left=0.278, right=0.342)\n",
    "    ax_ex = fig.add_subplot(gs_ex[0,0])\n",
    "    ax_ex.set_xticks([])\n",
    "    ax_ex.set_yticks([])\n",
    "    ax_ex.set_facecolor(np.ones(3)*0.6)\n",
    "\n",
    "    trans = ax_ex.get_xaxis_transform()\n",
    "    ax_ex.plot([0,1],[-0.2,-0.2],  # add a line for horizontal scale\n",
    "                color='k', lw=2.5, \n",
    "                transform=trans, clip_on=False)\n",
    "    ax_ex.annotate('24 hr',             # annotate\n",
    "                    xy=(0.1,-0.8), xycoords=trans, \n",
    "                    ha='left', va='bottom', \n",
    "                    fontsize=axis_ls)\n",
    "    trans = ax_ex.get_yaxis_transform()\n",
    "    ax_ex.plot([1.15,1.15],[0.2,1],  # add a line for vertical scale\n",
    "                color='k', lw=2.5, \n",
    "                transform=trans, clip_on=False)\n",
    "    ax_ex.annotate('200 m',            # annotate\n",
    "                    xy=(1.7,0.7), xycoords=trans, \n",
    "                    ha='center', va='top', rotation=0,\n",
    "                    fontsize=axis_ls)\n",
    "    fig.text(x=-0.55, y=0.5, s='Scale:', \n",
    "             transform=ax_ex.transAxes,\n",
    "             fontsize=title_ls, \n",
    "             rotation=0, ha='center', va='center')"
   ]
  },
  {
   "cell_type": "code",
   "execution_count": 20,
   "metadata": {},
   "outputs": [],
   "source": [
    "def add_panel_A_label():\n",
    "    fig.text(x=-1.3,y=1.1,s='A',\n",
    "             transform=ax_pattern[0].transAxes,\n",
    "             fontsize=panel_ls, fontweight='bold')\n",
    "    fig.text(x=0.5,y=1.25,s='Echogram patterns',\n",
    "             transform=ax_pattern[1].transAxes,\n",
    "             fontsize=title_ls, ha='center')\n",
    "    fig.text(x=-0.8, y=-0, s='Frequency (kHz)', \n",
    "             transform=ax_pattern[0].transAxes,\n",
    "             fontsize=title_ls, \n",
    "             rotation=90, ha='center', va='bottom')"
   ]
  },
  {
   "cell_type": "code",
   "execution_count": 21,
   "metadata": {},
   "outputs": [],
   "source": [
    "def add_panel_B_label():\n",
    "    fig.text(x=-0.1,y=1.1,s='B',\n",
    "             transform=ax_activation.transAxes,\n",
    "             fontsize=panel_ls, fontweight='bold')\n",
    "    fig.text(x=0.5,y=1.1,s='Activation',\n",
    "             transform=ax_activation.transAxes,\n",
    "             fontsize=title_ls, ha='center')\n",
    "    fig.text(x=-0.16, y=-0.05, s='Relative strength', \n",
    "             transform=ax_activation.transAxes,\n",
    "             fontsize=title_ls, \n",
    "             rotation=90, ha='center', va='bottom')"
   ]
  },
  {
   "cell_type": "code",
   "execution_count": 22,
   "metadata": {},
   "outputs": [
    {
     "data": {
      "image/png": "[encoded data removed]",
      "text/plain": [
       "<Figure size 508.5x201.6 with 6 Axes>"
      ]
     },
     "metadata": {
      "needs_background": "light"
     },
     "output_type": "display_data"
    }
   ],
   "source": [
    "fig = plt.figure(figsize=(7+1/16,2.8))\n",
    "gs_L = fig.add_gridspec(2,3, bottom=0.2, top=1.0, left=0.2,  right=0.42, hspace=0.15)\n",
    "gs_R = fig.add_gridspec(2,1, bottom=0.2, top=1.0, left=0.6, right=1, hspace=0.15)\n",
    "\n",
    "# Panel: daily echogram patterns\n",
    "ax_pattern = plot_daily_echogram()\n",
    "\n",
    "# Panel: Activation\n",
    "ax_activation = plot_activation()\n",
    "\n",
    "# Add echogram pattern labels\n",
    "[ax_pattern[x-1].set_title('#%d' % x, fontsize=title_ls, pad=5) for x in np.arange(1,4,1)]\n",
    "\n",
    "# Add component legend\n",
    "ax_activation.legend(['#1', '#2', '#3'], \n",
    "                  fontsize=tick_ls,\n",
    "                  bbox_to_anchor=(0.1, -0.65), \n",
    "                  loc='lower left', ncol=3)\n",
    "\n",
    "# Add panel label\n",
    "add_panel_A_label()\n",
    "add_panel_B_label()\n",
    "\n",
    "# Add frequency for echogram patterns\n",
    "[fig.text(\n",
    "        x=-0.35, y=yy, s=ss, transform=ax_pattern[0].transAxes,\n",
    "        fontsize=freq_ls,\n",
    "        ha='center', va='center')\n",
    "    for ss,yy in zip(['200', '120', '38'], [0.15, 0.5, 0.825])]\n",
    "\n",
    "# Add example axis for daily echogram patterns\n",
    "plot_daily_echogram_pattern_scale()\n",
    "\n",
    "# Save figure\n",
    "fig.savefig(os.path.join('../figs/fig_results_decomp.png'),\n",
    "            dpi=150, bbox_inches = 'tight', pad_inches = 0.05)\n",
    "plt.show()"
   ]
  },
  {
   "cell_type": "code",
   "execution_count": null,
   "metadata": {},
   "outputs": [],
   "source": []
  }
 ],
 "metadata": {
  "kernelspec": {
   "display_name": "ooi-echo-matrix-decomp",
   "language": "python",
   "name": "ooi-echo-matrix-decomp"
  },
  "language_info": {
   "codemirror_mode": {
    "name": "ipython",
    "version": 3
   },
   "file_extension": ".py",
   "mimetype": "text/x-python",
   "name": "python",
   "nbconvert_exporter": "python",
   "pygments_lexer": "ipython3",
   "version": "3.8.3"
  }
 },
 "nbformat": 4,
 "nbformat_minor": 4
}
