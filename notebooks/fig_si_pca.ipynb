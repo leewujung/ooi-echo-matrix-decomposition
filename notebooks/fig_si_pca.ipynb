{
 "cells": [
  {
   "cell_type": "markdown",
   "metadata": {},
   "source": [
    "# Plotting PCA results"
   ]
  },
  {
   "cell_type": "code",
   "execution_count": 1,
   "metadata": {},
   "outputs": [],
   "source": [
    "import os\n",
    "import numpy as np\n",
    "import matplotlib.pyplot as plt\n",
    "import matplotlib.dates as mdates\n",
    "import datetime\n",
    "import xarray as xr\n",
    "from sklearn.decomposition import PCA"
   ]
  },
  {
   "cell_type": "markdown",
   "metadata": {},
   "source": [
    "## Load data"
   ]
  },
  {
   "cell_type": "code",
   "execution_count": 2,
   "metadata": {},
   "outputs": [],
   "source": [
    "MVBS_PCP_path = '../data/'\n",
    "MVBS_rpca_file = '20150817-20151017_MVBS_time_Sv_rangeBin5_all_corrected_rpca.nc'"
   ]
  },
  {
   "cell_type": "code",
   "execution_count": 3,
   "metadata": {},
   "outputs": [],
   "source": [
    "MVBS_rpca = xr.open_dataset(os.path.join(MVBS_PCP_path, MVBS_rpca_file))\n",
    "low_rank = MVBS_rpca['low_rank']\n",
    "n_observations, n_frequencies, n_depth_levels, n_pings = low_rank.shape"
   ]
  },
  {
   "cell_type": "code",
   "execution_count": 4,
   "metadata": {},
   "outputs": [],
   "source": [
    "low_rank = low_rank.values.reshape([n_observations,-1])"
   ]
  },
  {
   "cell_type": "code",
   "execution_count": 5,
   "metadata": {},
   "outputs": [],
   "source": [
    "low_rank_nonneg = low_rank - low_rank.min()"
   ]
  },
  {
   "cell_type": "code",
   "execution_count": 6,
   "metadata": {},
   "outputs": [
    {
     "data": {
      "text/plain": [
       "(62, 15984)"
      ]
     },
     "execution_count": 6,
     "metadata": {},
     "output_type": "execute_result"
    }
   ],
   "source": [
    "low_rank_nonneg.shape"
   ]
  },
  {
   "cell_type": "markdown",
   "metadata": {},
   "source": [
    "## Run PCA on data"
   ]
  },
  {
   "cell_type": "code",
   "execution_count": 7,
   "metadata": {},
   "outputs": [
    {
     "data": {
      "text/plain": [
       "PCA(svd_solver='full')"
      ]
     },
     "execution_count": 7,
     "metadata": {},
     "output_type": "execute_result"
    }
   ],
   "source": [
    "model_PCA = PCA(svd_solver='full')\n",
    "model_PCA.fit(low_rank_nonneg)"
   ]
  },
  {
   "cell_type": "code",
   "execution_count": 8,
   "metadata": {},
   "outputs": [
    {
     "data": {
      "image/png": "[encoded data removed]",
      "text/plain": [
       "<Figure size 864x216 with 2 Axes>"
      ]
     },
     "metadata": {
      "needs_background": "light"
     },
     "output_type": "display_data"
    }
   ],
   "source": [
    "fig,ax = plt.subplots(1,2,figsize=(12,3))\n",
    "ax[0].plot(model_PCA.singular_values_,'.')\n",
    "ax[0].set_title('Singular values')\n",
    "ax[0].set_xlim(-1,15)\n",
    "ax[0].grid()\n",
    "ax[1].plot(model_PCA.explained_variance_,'.')\n",
    "ax[1].set_title('Explained variance')\n",
    "ax[1].set_xlim(-1,15)\n",
    "ax[1].grid()\n",
    "plt.show()"
   ]
  },
  {
   "cell_type": "markdown",
   "metadata": {},
   "source": [
    "### Check normalization"
   ]
  },
  {
   "cell_type": "code",
   "execution_count": 9,
   "metadata": {},
   "outputs": [],
   "source": [
    "W_PCA = model_PCA.components_\n",
    "H_PCA = model_PCA.fit_transform(low_rank_nonneg)"
   ]
  },
  {
   "cell_type": "code",
   "execution_count": 10,
   "metadata": {},
   "outputs": [
    {
     "data": {
      "text/plain": [
       "((62, 15984), (62, 62))"
      ]
     },
     "execution_count": 10,
     "metadata": {},
     "output_type": "execute_result"
    }
   ],
   "source": [
    "(W_PCA.shape, H_PCA.shape)"
   ]
  },
  {
   "cell_type": "code",
   "execution_count": 11,
   "metadata": {},
   "outputs": [
    {
     "data": {
      "text/plain": [
       "((62,), (62,))"
      ]
     },
     "execution_count": 11,
     "metadata": {},
     "output_type": "execute_result"
    }
   ],
   "source": [
    "# Calculate norm for W and H\n",
    "weights_W = np.linalg.norm(W_PCA, axis=1)\n",
    "weights_H = np.linalg.norm(H_PCA.T,axis=0)\n",
    "(weights_W.shape, weights_H.shape)"
   ]
  },
  {
   "cell_type": "code",
   "execution_count": 12,
   "metadata": {},
   "outputs": [
    {
     "data": {
      "text/plain": [
       "(array([1., 1., 1., 1., 1., 1., 1., 1., 1., 1., 1., 1., 1., 1., 1., 1., 1.,\n",
       "        1., 1., 1., 1., 1., 1., 1., 1., 1., 1., 1., 1., 1., 1., 1., 1., 1.,\n",
       "        1., 1., 1., 1., 1., 1., 1., 1., 1., 1., 1., 1., 1., 1., 1., 1., 1.,\n",
       "        1., 1., 1., 1., 1., 1., 1., 1., 1., 1., 1.]),\n",
       " array([278.66212749, 381.45001099, 497.3019365 , 547.58756196,\n",
       "        583.58088279, 424.9269643 , 426.5113725 , 631.36305039,\n",
       "        589.897248  , 507.4698314 , 445.20096398, 402.14709285,\n",
       "        357.21230954, 288.38694362, 393.99613175, 350.6043334 ,\n",
       "        299.33053443, 368.79597739, 452.68630105, 530.68735733,\n",
       "        407.03068001, 433.03967449, 380.69532826, 280.3272372 ,\n",
       "        264.65616131, 219.2006776 , 511.34378146, 639.34705165,\n",
       "        326.67879261, 285.76145348, 322.15469482, 296.28474945,\n",
       "        345.89804654, 435.66748916, 425.24509224, 198.60771347,\n",
       "        327.93671102, 343.08053027, 334.55670099, 322.06709818,\n",
       "        251.56935841, 519.44850982, 519.27258084, 429.06022353,\n",
       "        233.05293672, 432.93303823, 680.55705201, 631.53556404,\n",
       "        711.6333912 , 585.303897  , 601.78004766, 247.8234742 ,\n",
       "        202.73502512, 162.1030358 , 306.99469381, 257.6384883 ,\n",
       "        329.77531781, 277.09466864, 269.75655903, 371.49307408,\n",
       "        463.27898394, 280.64750861]))"
      ]
     },
     "execution_count": 12,
     "metadata": {},
     "output_type": "execute_result"
    }
   ],
   "source": [
    "(weights_W, weights_H)"
   ]
  },
  {
   "cell_type": "markdown",
   "metadata": {},
   "source": [
    "We can see that all the weights are factored out to $\\mathbf{H}$."
   ]
  },
  {
   "cell_type": "markdown",
   "metadata": {},
   "source": [
    "## Fig. S5. PCA results"
   ]
  },
  {
   "cell_type": "markdown",
   "metadata": {},
   "source": [
    "Reshape PCA components back to daily echogram format."
   ]
  },
  {
   "cell_type": "code",
   "execution_count": 13,
   "metadata": {},
   "outputs": [
    {
     "data": {
      "text/plain": [
       "(3, 111, 144)"
      ]
     },
     "execution_count": 13,
     "metadata": {},
     "output_type": "execute_result"
    }
   ],
   "source": [
    "components_PCA = np.array([W_PCA[x,:].reshape(n_frequencies*n_depth_levels,n_pings) \n",
    "                          for x in range(3)])\n",
    "components_PCA.shape"
   ]
  },
  {
   "cell_type": "markdown",
   "metadata": {},
   "source": [
    "Assemble dataset for activation so that it is easy to plot."
   ]
  },
  {
   "cell_type": "code",
   "execution_count": 14,
   "metadata": {},
   "outputs": [
    {
     "data": {
      "text/plain": [
       "(62, 62)"
      ]
     },
     "execution_count": 14,
     "metadata": {},
     "output_type": "execute_result"
    }
   ],
   "source": [
    "np.array(H_PCA).shape"
   ]
  },
  {
   "cell_type": "code",
   "execution_count": 15,
   "metadata": {},
   "outputs": [
    {
     "data": {
      "text/html": [
       "<div><svg style=\"position: absolute; width: 0; height: 0; overflow: hidden\">\n",
       "<defs>\n",
       "<symbol id=\"icon-database\" viewBox=\"0 0 32 32\">\n",
       "<title>Show/Hide data repr</title>\n",
       "<path d=\"M16 0c-8.837 0-16 2.239-16 5v4c0 2.761 7.163 5 16 5s16-2.239 16-5v-4c0-2.761-7.163-5-16-5z\"></path>\n",
       "<path d=\"M16 17c-8.837 0-16-2.239-16-5v6c0 2.761 7.163 5 16 5s16-2.239 16-5v-6c0 2.761-7.163 5-16 5z\"></path>\n",
       "<path d=\"M16 26c-8.837 0-16-2.239-16-5v6c0 2.761 7.163 5 16 5s16-2.239 16-5v-6c0 2.761-7.163 5-16 5z\"></path>\n",
       "</symbol>\n",
       "<symbol id=\"icon-file-text2\" viewBox=\"0 0 32 32\">\n",
       "<title>Show/Hide attributes</title>\n",
       "<path d=\"M28.681 7.159c-0.694-0.947-1.662-2.053-2.724-3.116s-2.169-2.030-3.116-2.724c-1.612-1.182-2.393-1.319-2.841-1.319h-15.5c-1.378 0-2.5 1.121-2.5 2.5v27c0 1.378 1.122 2.5 2.5 2.5h23c1.378 0 2.5-1.122 2.5-2.5v-19.5c0-0.448-0.137-1.23-1.319-2.841zM24.543 5.457c0.959 0.959 1.712 1.825 2.268 2.543h-4.811v-4.811c0.718 0.556 1.584 1.309 2.543 2.268zM28 29.5c0 0.271-0.229 0.5-0.5 0.5h-23c-0.271 0-0.5-0.229-0.5-0.5v-27c0-0.271 0.229-0.5 0.5-0.5 0 0 15.499-0 15.5 0v7c0 0.552 0.448 1 1 1h7v19.5z\"></path>\n",
       "<path d=\"M23 26h-14c-0.552 0-1-0.448-1-1s0.448-1 1-1h14c0.552 0 1 0.448 1 1s-0.448 1-1 1z\"></path>\n",
       "<path d=\"M23 22h-14c-0.552 0-1-0.448-1-1s0.448-1 1-1h14c0.552 0 1 0.448 1 1s-0.448 1-1 1z\"></path>\n",
       "<path d=\"M23 18h-14c-0.552 0-1-0.448-1-1s0.448-1 1-1h14c0.552 0 1 0.448 1 1s-0.448 1-1 1z\"></path>\n",
       "</symbol>\n",
       "</defs>\n",
       "</svg>\n",
       "<style>/* CSS stylesheet for displaying xarray objects in jupyterlab.\n",
       " *\n",
       " */\n",
       "\n",
       ":root {\n",
       "  --xr-font-color0: var(--jp-content-font-color0, rgba(0, 0, 0, 1));\n",
       "  --xr-font-color2: var(--jp-content-font-color2, rgba(0, 0, 0, 0.54));\n",
       "  --xr-font-color3: var(--jp-content-font-color3, rgba(0, 0, 0, 0.38));\n",
       "  --xr-border-color: var(--jp-border-color2, #e0e0e0);\n",
       "  --xr-disabled-color: var(--jp-layout-color3, #bdbdbd);\n",
       "  --xr-background-color: var(--jp-layout-color0, white);\n",
       "  --xr-background-color-row-even: var(--jp-layout-color1, white);\n",
       "  --xr-background-color-row-odd: var(--jp-layout-color2, #eeeeee);\n",
       "}\n",
       "\n",
       ".xr-wrap {\n",
       "  min-width: 300px;\n",
       "  max-width: 700px;\n",
       "}\n",
       "\n",
       ".xr-header {\n",
       "  padding-top: 6px;\n",
       "  padding-bottom: 6px;\n",
       "  margin-bottom: 4px;\n",
       "  border-bottom: solid 1px var(--xr-border-color);\n",
       "}\n",
       "\n",
       ".xr-header > div,\n",
       ".xr-header > ul {\n",
       "  display: inline;\n",
       "  margin-top: 0;\n",
       "  margin-bottom: 0;\n",
       "}\n",
       "\n",
       ".xr-obj-type,\n",
       ".xr-array-name {\n",
       "  margin-left: 2px;\n",
       "  margin-right: 10px;\n",
       "}\n",
       "\n",
       ".xr-obj-type {\n",
       "  color: var(--xr-font-color2);\n",
       "}\n",
       "\n",
       ".xr-sections {\n",
       "  padding-left: 0 !important;\n",
       "  display: grid;\n",
       "  grid-template-columns: 150px auto auto 1fr 20px 20px;\n",
       "}\n",
       "\n",
       ".xr-section-item {\n",
       "  display: contents;\n",
       "}\n",
       "\n",
       ".xr-section-item input {\n",
       "  display: none;\n",
       "}\n",
       "\n",
       ".xr-section-item input + label {\n",
       "  color: var(--xr-disabled-color);\n",
       "}\n",
       "\n",
       ".xr-section-item input:enabled + label {\n",
       "  cursor: pointer;\n",
       "  color: var(--xr-font-color2);\n",
       "}\n",
       "\n",
       ".xr-section-item input:enabled + label:hover {\n",
       "  color: var(--xr-font-color0);\n",
       "}\n",
       "\n",
       ".xr-section-summary {\n",
       "  grid-column: 1;\n",
       "  color: var(--xr-font-color2);\n",
       "  font-weight: 500;\n",
       "}\n",
       "\n",
       ".xr-section-summary > span {\n",
       "  display: inline-block;\n",
       "  padding-left: 0.5em;\n",
       "}\n",
       "\n",
       ".xr-section-summary-in:disabled + label {\n",
       "  color: var(--xr-font-color2);\n",
       "}\n",
       "\n",
       ".xr-section-summary-in + label:before {\n",
       "  display: inline-block;\n",
       "  content: '►';\n",
       "  font-size: 11px;\n",
       "  width: 15px;\n",
       "  text-align: center;\n",
       "}\n",
       "\n",
       ".xr-section-summary-in:disabled + label:before {\n",
       "  color: var(--xr-disabled-color);\n",
       "}\n",
       "\n",
       ".xr-section-summary-in:checked + label:before {\n",
       "  content: '▼';\n",
       "}\n",
       "\n",
       ".xr-section-summary-in:checked + label > span {\n",
       "  display: none;\n",
       "}\n",
       "\n",
       ".xr-section-summary,\n",
       ".xr-section-inline-details {\n",
       "  padding-top: 4px;\n",
       "  padding-bottom: 4px;\n",
       "}\n",
       "\n",
       ".xr-section-inline-details {\n",
       "  grid-column: 2 / -1;\n",
       "}\n",
       "\n",
       ".xr-section-details {\n",
       "  display: none;\n",
       "  grid-column: 1 / -1;\n",
       "  margin-bottom: 5px;\n",
       "}\n",
       "\n",
       ".xr-section-summary-in:checked ~ .xr-section-details {\n",
       "  display: contents;\n",
       "}\n",
       "\n",
       ".xr-array-wrap {\n",
       "  grid-column: 1 / -1;\n",
       "  display: grid;\n",
       "  grid-template-columns: 20px auto;\n",
       "}\n",
       "\n",
       ".xr-array-wrap > label {\n",
       "  grid-column: 1;\n",
       "  vertical-align: top;\n",
       "}\n",
       "\n",
       ".xr-preview {\n",
       "  color: var(--xr-font-color3);\n",
       "}\n",
       "\n",
       ".xr-array-preview,\n",
       ".xr-array-data {\n",
       "  padding: 0 5px !important;\n",
       "  grid-column: 2;\n",
       "}\n",
       "\n",
       ".xr-array-data,\n",
       ".xr-array-in:checked ~ .xr-array-preview {\n",
       "  display: none;\n",
       "}\n",
       "\n",
       ".xr-array-in:checked ~ .xr-array-data,\n",
       ".xr-array-preview {\n",
       "  display: inline-block;\n",
       "}\n",
       "\n",
       ".xr-dim-list {\n",
       "  display: inline-block !important;\n",
       "  list-style: none;\n",
       "  padding: 0 !important;\n",
       "  margin: 0;\n",
       "}\n",
       "\n",
       ".xr-dim-list li {\n",
       "  display: inline-block;\n",
       "  padding: 0;\n",
       "  margin: 0;\n",
       "}\n",
       "\n",
       ".xr-dim-list:before {\n",
       "  content: '(';\n",
       "}\n",
       "\n",
       ".xr-dim-list:after {\n",
       "  content: ')';\n",
       "}\n",
       "\n",
       ".xr-dim-list li:not(:last-child):after {\n",
       "  content: ',';\n",
       "  padding-right: 5px;\n",
       "}\n",
       "\n",
       ".xr-has-index {\n",
       "  font-weight: bold;\n",
       "}\n",
       "\n",
       ".xr-var-list,\n",
       ".xr-var-item {\n",
       "  display: contents;\n",
       "}\n",
       "\n",
       ".xr-var-item > div,\n",
       ".xr-var-item label,\n",
       ".xr-var-item > .xr-var-name span {\n",
       "  background-color: var(--xr-background-color-row-even);\n",
       "  margin-bottom: 0;\n",
       "}\n",
       "\n",
       ".xr-var-item > .xr-var-name:hover span {\n",
       "  padding-right: 5px;\n",
       "}\n",
       "\n",
       ".xr-var-list > li:nth-child(odd) > div,\n",
       ".xr-var-list > li:nth-child(odd) > label,\n",
       ".xr-var-list > li:nth-child(odd) > .xr-var-name span {\n",
       "  background-color: var(--xr-background-color-row-odd);\n",
       "}\n",
       "\n",
       ".xr-var-name {\n",
       "  grid-column: 1;\n",
       "}\n",
       "\n",
       ".xr-var-dims {\n",
       "  grid-column: 2;\n",
       "}\n",
       "\n",
       ".xr-var-dtype {\n",
       "  grid-column: 3;\n",
       "  text-align: right;\n",
       "  color: var(--xr-font-color2);\n",
       "}\n",
       "\n",
       ".xr-var-preview {\n",
       "  grid-column: 4;\n",
       "}\n",
       "\n",
       ".xr-var-name,\n",
       ".xr-var-dims,\n",
       ".xr-var-dtype,\n",
       ".xr-preview,\n",
       ".xr-attrs dt {\n",
       "  white-space: nowrap;\n",
       "  overflow: hidden;\n",
       "  text-overflow: ellipsis;\n",
       "  padding-right: 10px;\n",
       "}\n",
       "\n",
       ".xr-var-name:hover,\n",
       ".xr-var-dims:hover,\n",
       ".xr-var-dtype:hover,\n",
       ".xr-attrs dt:hover {\n",
       "  overflow: visible;\n",
       "  width: auto;\n",
       "  z-index: 1;\n",
       "}\n",
       "\n",
       ".xr-var-attrs,\n",
       ".xr-var-data {\n",
       "  display: none;\n",
       "  background-color: var(--xr-background-color) !important;\n",
       "  padding-bottom: 5px !important;\n",
       "}\n",
       "\n",
       ".xr-var-attrs-in:checked ~ .xr-var-attrs,\n",
       ".xr-var-data-in:checked ~ .xr-var-data {\n",
       "  display: block;\n",
       "}\n",
       "\n",
       ".xr-var-data > table {\n",
       "  float: right;\n",
       "}\n",
       "\n",
       ".xr-var-name span,\n",
       ".xr-var-data,\n",
       ".xr-attrs {\n",
       "  padding-left: 25px !important;\n",
       "}\n",
       "\n",
       ".xr-attrs,\n",
       ".xr-var-attrs,\n",
       ".xr-var-data {\n",
       "  grid-column: 1 / -1;\n",
       "}\n",
       "\n",
       "dl.xr-attrs {\n",
       "  padding: 0;\n",
       "  margin: 0;\n",
       "  display: grid;\n",
       "  grid-template-columns: 125px auto;\n",
       "}\n",
       "\n",
       ".xr-attrs dt, dd {\n",
       "  padding: 0;\n",
       "  margin: 0;\n",
       "  float: left;\n",
       "  padding-right: 10px;\n",
       "  width: auto;\n",
       "}\n",
       "\n",
       ".xr-attrs dt {\n",
       "  font-weight: normal;\n",
       "  grid-column: 1;\n",
       "}\n",
       "\n",
       ".xr-attrs dt:hover span {\n",
       "  display: inline-block;\n",
       "  background: var(--xr-background-color);\n",
       "  padding-right: 10px;\n",
       "}\n",
       "\n",
       ".xr-attrs dd {\n",
       "  grid-column: 2;\n",
       "  white-space: pre-wrap;\n",
       "  word-break: break-all;\n",
       "}\n",
       "\n",
       ".xr-icon-database,\n",
       ".xr-icon-file-text2 {\n",
       "  display: inline-block;\n",
       "  vertical-align: middle;\n",
       "  width: 1em;\n",
       "  height: 1.5em !important;\n",
       "  stroke-width: 0;\n",
       "  stroke: currentColor;\n",
       "  fill: currentColor;\n",
       "}\n",
       "</style><div class='xr-wrap'><div class='xr-header'><div class='xr-obj-type'>xarray.Dataset</div></div><ul class='xr-sections'><li class='xr-section-item'><input id='section-61972b75-5d09-4d86-9eed-f870afc4979b' class='xr-section-summary-in' type='checkbox' disabled ><label for='section-61972b75-5d09-4d86-9eed-f870afc4979b' class='xr-section-summary'  title='Expand/collapse section'>Dimensions:</label><div class='xr-section-inline-details'><ul class='xr-dim-list'><li><span class='xr-has-index'>component</span>: 62</li><li><span class='xr-has-index'>day</span>: 62</li></ul></div><div class='xr-section-details'></div></li><li class='xr-section-item'><input id='section-667bf943-951f-40f3-9529-810e5faad201' class='xr-section-summary-in' type='checkbox'  checked><label for='section-667bf943-951f-40f3-9529-810e5faad201' class='xr-section-summary' >Coordinates: <span>(2)</span></label><div class='xr-section-inline-details'></div><div class='xr-section-details'><ul class='xr-var-list'><li class='xr-var-item'><div class='xr-var-name'><span class='xr-has-index'>component</span></div><div class='xr-var-dims'>(component)</div><div class='xr-var-dtype'>int64</div><div class='xr-var-preview xr-preview'>0 1 2 3 4 5 6 ... 56 57 58 59 60 61</div><input id='attrs-a9e8fbdd-495d-4d86-b49a-a7b20b620612' class='xr-var-attrs-in' type='checkbox' disabled><label for='attrs-a9e8fbdd-495d-4d86-b49a-a7b20b620612' title='Show/Hide attributes'><svg class='icon xr-icon-file-text2'><use xlink:href='#icon-file-text2'></use></svg></label><input id='data-af1c0461-7065-4f2d-ba85-735c74e97d6a' class='xr-var-data-in' type='checkbox'><label for='data-af1c0461-7065-4f2d-ba85-735c74e97d6a' title='Show/Hide data repr'><svg class='icon xr-icon-database'><use xlink:href='#icon-database'></use></svg></label><div class='xr-var-attrs'><dl class='xr-attrs'></dl></div><pre class='xr-var-data'>array([ 0,  1,  2,  3,  4,  5,  6,  7,  8,  9, 10, 11, 12, 13, 14, 15, 16, 17,\n",
       "       18, 19, 20, 21, 22, 23, 24, 25, 26, 27, 28, 29, 30, 31, 32, 33, 34, 35,\n",
       "       36, 37, 38, 39, 40, 41, 42, 43, 44, 45, 46, 47, 48, 49, 50, 51, 52, 53,\n",
       "       54, 55, 56, 57, 58, 59, 60, 61])</pre></li><li class='xr-var-item'><div class='xr-var-name'><span class='xr-has-index'>day</span></div><div class='xr-var-dims'>(day)</div><div class='xr-var-dtype'>datetime64[ns]</div><div class='xr-var-preview xr-preview'>2015-08-17 ... 2015-10-17</div><input id='attrs-4e411415-9cd9-4372-9068-f531902e2a3c' class='xr-var-attrs-in' type='checkbox' disabled><label for='attrs-4e411415-9cd9-4372-9068-f531902e2a3c' title='Show/Hide attributes'><svg class='icon xr-icon-file-text2'><use xlink:href='#icon-file-text2'></use></svg></label><input id='data-eb08b5d3-ecd3-4930-afd8-20c63deb6e94' class='xr-var-data-in' type='checkbox'><label for='data-eb08b5d3-ecd3-4930-afd8-20c63deb6e94' title='Show/Hide data repr'><svg class='icon xr-icon-database'><use xlink:href='#icon-database'></use></svg></label><div class='xr-var-attrs'><dl class='xr-attrs'></dl></div><pre class='xr-var-data'>array([&#x27;2015-08-17T00:00:00.000000000&#x27;, &#x27;2015-08-18T00:00:00.000000000&#x27;,\n",
       "       &#x27;2015-08-19T00:00:00.000000000&#x27;, &#x27;2015-08-20T00:00:00.000000000&#x27;,\n",
       "       &#x27;2015-08-21T00:00:00.000000000&#x27;, &#x27;2015-08-22T00:00:00.000000000&#x27;,\n",
       "       &#x27;2015-08-23T00:00:00.000000000&#x27;, &#x27;2015-08-24T00:00:00.000000000&#x27;,\n",
       "       &#x27;2015-08-25T00:00:00.000000000&#x27;, &#x27;2015-08-26T00:00:00.000000000&#x27;,\n",
       "       &#x27;2015-08-27T00:00:00.000000000&#x27;, &#x27;2015-08-28T00:00:00.000000000&#x27;,\n",
       "       &#x27;2015-08-29T00:00:00.000000000&#x27;, &#x27;2015-08-30T00:00:00.000000000&#x27;,\n",
       "       &#x27;2015-08-31T00:00:00.000000000&#x27;, &#x27;2015-09-01T00:00:00.000000000&#x27;,\n",
       "       &#x27;2015-09-02T00:00:00.000000000&#x27;, &#x27;2015-09-03T00:00:00.000000000&#x27;,\n",
       "       &#x27;2015-09-04T00:00:00.000000000&#x27;, &#x27;2015-09-05T00:00:00.000000000&#x27;,\n",
       "       &#x27;2015-09-06T00:00:00.000000000&#x27;, &#x27;2015-09-07T00:00:00.000000000&#x27;,\n",
       "       &#x27;2015-09-08T00:00:00.000000000&#x27;, &#x27;2015-09-09T00:00:00.000000000&#x27;,\n",
       "       &#x27;2015-09-10T00:00:00.000000000&#x27;, &#x27;2015-09-11T00:00:00.000000000&#x27;,\n",
       "       &#x27;2015-09-12T00:00:00.000000000&#x27;, &#x27;2015-09-13T00:00:00.000000000&#x27;,\n",
       "       &#x27;2015-09-14T00:00:00.000000000&#x27;, &#x27;2015-09-15T00:00:00.000000000&#x27;,\n",
       "       &#x27;2015-09-16T00:00:00.000000000&#x27;, &#x27;2015-09-17T00:00:00.000000000&#x27;,\n",
       "       &#x27;2015-09-18T00:00:00.000000000&#x27;, &#x27;2015-09-19T00:00:00.000000000&#x27;,\n",
       "       &#x27;2015-09-20T00:00:00.000000000&#x27;, &#x27;2015-09-21T00:00:00.000000000&#x27;,\n",
       "       &#x27;2015-09-22T00:00:00.000000000&#x27;, &#x27;2015-09-23T00:00:00.000000000&#x27;,\n",
       "       &#x27;2015-09-24T00:00:00.000000000&#x27;, &#x27;2015-09-25T00:00:00.000000000&#x27;,\n",
       "       &#x27;2015-09-26T00:00:00.000000000&#x27;, &#x27;2015-09-27T00:00:00.000000000&#x27;,\n",
       "       &#x27;2015-09-28T00:00:00.000000000&#x27;, &#x27;2015-09-29T00:00:00.000000000&#x27;,\n",
       "       &#x27;2015-09-30T00:00:00.000000000&#x27;, &#x27;2015-10-01T00:00:00.000000000&#x27;,\n",
       "       &#x27;2015-10-02T00:00:00.000000000&#x27;, &#x27;2015-10-03T00:00:00.000000000&#x27;,\n",
       "       &#x27;2015-10-04T00:00:00.000000000&#x27;, &#x27;2015-10-05T00:00:00.000000000&#x27;,\n",
       "       &#x27;2015-10-06T00:00:00.000000000&#x27;, &#x27;2015-10-07T00:00:00.000000000&#x27;,\n",
       "       &#x27;2015-10-08T00:00:00.000000000&#x27;, &#x27;2015-10-09T00:00:00.000000000&#x27;,\n",
       "       &#x27;2015-10-10T00:00:00.000000000&#x27;, &#x27;2015-10-11T00:00:00.000000000&#x27;,\n",
       "       &#x27;2015-10-12T00:00:00.000000000&#x27;, &#x27;2015-10-13T00:00:00.000000000&#x27;,\n",
       "       &#x27;2015-10-14T00:00:00.000000000&#x27;, &#x27;2015-10-15T00:00:00.000000000&#x27;,\n",
       "       &#x27;2015-10-16T00:00:00.000000000&#x27;, &#x27;2015-10-17T00:00:00.000000000&#x27;],\n",
       "      dtype=&#x27;datetime64[ns]&#x27;)</pre></li></ul></div></li><li class='xr-section-item'><input id='section-304aaecf-b880-4564-a534-0d1fbbeb5dfb' class='xr-section-summary-in' type='checkbox'  checked><label for='section-304aaecf-b880-4564-a534-0d1fbbeb5dfb' class='xr-section-summary' >Data variables: <span>(1)</span></label><div class='xr-section-inline-details'></div><div class='xr-section-details'><ul class='xr-var-list'><li class='xr-var-item'><div class='xr-var-name'><span>H_PCA</span></div><div class='xr-var-dims'>(component, day)</div><div class='xr-var-dtype'>float64</div><div class='xr-var-preview xr-preview'>-196.7 66.75 ... 2.994e-13</div><input id='attrs-f549a25f-2451-404e-b1f8-81daec5b0840' class='xr-var-attrs-in' type='checkbox' disabled><label for='attrs-f549a25f-2451-404e-b1f8-81daec5b0840' title='Show/Hide attributes'><svg class='icon xr-icon-file-text2'><use xlink:href='#icon-file-text2'></use></svg></label><input id='data-969646f5-e8c2-4864-b11a-6cc6fae050cc' class='xr-var-data-in' type='checkbox'><label for='data-969646f5-e8c2-4864-b11a-6cc6fae050cc' title='Show/Hide data repr'><svg class='icon xr-icon-database'><use xlink:href='#icon-database'></use></svg></label><div class='xr-var-attrs'><dl class='xr-attrs'></dl></div><pre class='xr-var-data'>array([[-1.96697757e+02,  6.67506962e+01,  2.74798084e+02, ...,\n",
       "        -1.28000894e+02, -2.48240795e+02,  1.94897101e+02],\n",
       "       [ 8.99008915e+01,  3.10455199e+02,  3.70693635e+02, ...,\n",
       "        -1.69971379e+02, -2.94733189e+02, -1.09747276e+02],\n",
       "       [ 4.19605639e+01,  1.92430310e+02,  7.37738019e+01, ...,\n",
       "        -2.70357463e+02, -2.19284529e+02, -1.30063908e+02],\n",
       "       ...,\n",
       "       [-2.52498141e-14, -1.55929428e-13,  7.45556093e-14, ...,\n",
       "        -1.33539287e-13,  9.55503905e-13, -6.30738246e-13],\n",
       "       [ 2.74730568e-14,  4.33761323e-14, -2.71338372e-13, ...,\n",
       "        -2.92790906e-13, -1.77213686e-13,  1.11403410e-12],\n",
       "       [-9.37624502e-15,  1.57156541e-13,  2.60447518e-13, ...,\n",
       "        -1.32422521e-13, -2.86927405e-13,  2.99434489e-13]])</pre></li></ul></div></li><li class='xr-section-item'><input id='section-eb3f8fef-ce99-4a19-acca-ac092d893f06' class='xr-section-summary-in' type='checkbox' disabled ><label for='section-eb3f8fef-ce99-4a19-acca-ac092d893f06' class='xr-section-summary'  title='Expand/collapse section'>Attributes: <span>(0)</span></label><div class='xr-section-inline-details'></div><div class='xr-section-details'><dl class='xr-attrs'></dl></div></li></ul></div></div>"
      ],
      "text/plain": [
       "<xarray.Dataset>\n",
       "Dimensions:    (component: 62, day: 62)\n",
       "Coordinates:\n",
       "  * component  (component) int64 0 1 2 3 4 5 6 7 8 ... 54 55 56 57 58 59 60 61\n",
       "  * day        (day) datetime64[ns] 2015-08-17 2015-08-18 ... 2015-10-17\n",
       "Data variables:\n",
       "    H_PCA      (component, day) float64 -196.7 66.75 ... -2.869e-13 2.994e-13"
      ]
     },
     "execution_count": 15,
     "metadata": {},
     "output_type": "execute_result"
    }
   ],
   "source": [
    "# Assemble dataset for activation\n",
    "ds_activation = xr.Dataset(\n",
    "    {\n",
    "        'H_PCA': (['component', 'day'], np.array(H_PCA).T)\n",
    "    },\n",
    "    coords={\n",
    "        'component': np.arange(62),\n",
    "        'day': MVBS_rpca['low_rank'].date.values\n",
    "    }\n",
    ")\n",
    "\n",
    "ds_activation"
   ]
  },
  {
   "cell_type": "markdown",
   "metadata": {},
   "source": [
    "Define some functions for plotting"
   ]
  },
  {
   "cell_type": "code",
   "execution_count": 16,
   "metadata": {},
   "outputs": [],
   "source": [
    "def set_ax_ticks(ax):\n",
    "    \"\"\"Plot the tick marks for component panels\n",
    "    \"\"\"\n",
    "    ax.set_xticks([])\n",
    "    ax.set_yticks(np.arange(0,n_depth_levels*3+1,n_depth_levels))\n",
    "    ax.set_yticklabels('')\n",
    "    ax.grid(alpha=0.5)"
   ]
  },
  {
   "cell_type": "code",
   "execution_count": 17,
   "metadata": {},
   "outputs": [],
   "source": [
    "def plot_daily_echogram_colorbar(ax1, ax2):\n",
    "    pos_ax_left = ax1.get_position()\n",
    "    pos_ax_right = ax2.get_position()\n",
    "    cax = fig.add_axes([pos_ax_right.x0+pos_ax_right.width+0.012, \n",
    "                            pos_ax_left.y0, \n",
    "                            0.008, \n",
    "                            pos_ax_right.height])\n",
    "    cbar = plt.colorbar(im, cax=cax)\n",
    "#     cbar.set_ticks(np.arange(0,0.035,0.01))\n",
    "    cbar.ax.tick_params(labelsize=tick_ls, pad=pad_size)\n",
    "    return cbar"
   ]
  },
  {
   "cell_type": "markdown",
   "metadata": {},
   "source": [
    "Change default color cycle for plotting activation sequences:"
   ]
  },
  {
   "cell_type": "code",
   "execution_count": 18,
   "metadata": {},
   "outputs": [],
   "source": [
    "# Set custom color cycle\n",
    "from cycler import cycler\n",
    "# mpl.rcParams['axes.prop_cycle'] = cycler(color='bgrcmyk')  # default mpl color cycle\n",
    "# plt.rcParams['axes.prop_cycle'] = cycler(color='cmbgryk')\n",
    "# cmap = plt.cm.get_cmap('YlGnBu')\n",
    "cmap = plt.cm.get_cmap('gray_r')\n",
    "plt.rcParams['axes.prop_cycle'] = cycler(color=cmap([0.3,0.6,1.0]))"
   ]
  },
  {
   "cell_type": "code",
   "execution_count": 19,
   "metadata": {},
   "outputs": [],
   "source": [
    "panel_ls=12\n",
    "title_ls=10\n",
    "freq_ls=8\n",
    "comp_ls=8\n",
    "axis_ls=8\n",
    "legend_ls=6\n",
    "tick_ls=8\n",
    "pad_size=1"
   ]
  },
  {
   "cell_type": "code",
   "execution_count": 20,
   "metadata": {},
   "outputs": [
    {
     "data": {
      "image/png": "[encoded data removed]",
      "text/plain": [
       "<Figure size 648x100.8 with 7 Axes>"
      ]
     },
     "metadata": {
      "needs_background": "light"
     },
     "output_type": "display_data"
    }
   ],
   "source": [
    "fig = plt.figure(figsize=(9,1.4))\n",
    "gs_L = fig.add_gridspec(1,1, bottom=0.2, top=1.0, left=0.04, right=0.23, hspace=0.15)\n",
    "gs_M = fig.add_gridspec(1,3, bottom=0.2, top=1.0, left=0.31,  right=0.51, hspace=0.15)\n",
    "gs_R = fig.add_gridspec(1,1, bottom=0.2, top=1.0, left=0.65, right=0.95, hspace=0.15)\n",
    "\n",
    "\n",
    "# PANEL: EIGENVALUES ============================================\n",
    "ax_eigenvalue = fig.add_subplot(gs_L[0,0])\n",
    "ax_eigenvalue.plot(np.arange(1,63), model_PCA.explained_variance_ratio_,'k.')\n",
    "ax_eigenvalue.set_title('Explained variance', fontsize=title_ls)\n",
    "ax_eigenvalue.set_xlim(0,16)\n",
    "ax_eigenvalue.set_xlabel('Component number', fontsize=title_ls)\n",
    "ax_eigenvalue.set_ylabel('% Variance\\nexplained', fontsize=title_ls)\n",
    "ax_eigenvalue.grid()\n",
    "\n",
    "\n",
    "# PANEL: DAILY ECHOGRAM PATTERNS ================================\n",
    "# vmin, vmax = (components_PCA.min(), components_PCA.max()*0.95)\n",
    "vmax = np.abs([components_PCA.min(), components_PCA.max()]).max()*0.85\n",
    "ax_echogram = []\n",
    "for seq in range(3):  # loop through 3 components\n",
    "    ax_echogram.append(fig.add_subplot(gs_M[0,seq]))\n",
    "    im = ax_echogram[-1].imshow(components_PCA[seq,:,:], aspect='auto', \n",
    "                            vmin=-vmax, vmax=vmax, cmap='coolwarm')\n",
    "    set_ax_ticks(ax_echogram[-1])\n",
    "plot_daily_echogram_colorbar(ax_echogram[0], ax_echogram[2])\n",
    "\n",
    "# Add frequency for echogram patterns\n",
    "[\n",
    "    fig.text(\n",
    "        x=-0.3, y=yy, s=ss, transform=ax_echogram[0].transAxes,\n",
    "        fontsize=freq_ls,\n",
    "        ha='center', va='center')\n",
    "    for ss,yy in zip(['200', '120', '38'], [0.15, 0.5, 0.825])\n",
    "]\n",
    "\n",
    "# Add echogram pattern labels\n",
    "[ax_echogram[x-1].set_title('#%d' % x, fontsize=title_ls, pad=5) for x in np.arange(1,4,1)]\n",
    "\n",
    "\n",
    "# PANEL: ACTIVATION COEFFICIENTS ================================\n",
    "axa = fig.add_subplot(gs_R[0,0])\n",
    "h1 = ds_activation.H_PCA.isel(component=slice(0,3)).\\\n",
    "        plot.line(x='day', ax=axa,\n",
    "                  add_legend=False, _labels=False)\n",
    "axa.xaxis.set_major_locator(\n",
    "    mdates.MonthLocator(bymonth=range(8,11), bymonthday=[1,15]))\n",
    "axa.xaxis.set_major_formatter(mdates.DateFormatter('%b-%d'))\n",
    "axa.xaxis.set_minor_locator(mdates.AutoDateLocator())\n",
    "axa.set_xlim([datetime.date(2015,8,16), datetime.date(2015,10,18)])\n",
    "axa.set_title('')\n",
    "# axa.set_xticklabels('')\n",
    "axa.tick_params(labelsize=tick_ls, pad=pad_size)\n",
    "\n",
    "# Add component legend\n",
    "axa.legend(['#1', '#2', '#3'], \n",
    "              fontsize=tick_ls,\n",
    "              bbox_to_anchor=(0.08, -0.65), \n",
    "              loc='lower left', ncol=3)\n",
    "\n",
    "\n",
    "# Add panel labels\n",
    "fig.text(x=-0.2,y=1.1,s='A',\n",
    "         transform=ax_eigenvalue.transAxes,\n",
    "         fontsize=panel_ls, fontweight='bold')\n",
    "fig.text(x=-0.5,y=1.1,s='B',\n",
    "         transform=ax_echogram[0].transAxes,\n",
    "         fontsize=panel_ls, fontweight='bold')\n",
    "fig.text(x=-0.1,y=1.1,s='C',\n",
    "         transform=axa.transAxes,\n",
    "         fontsize=panel_ls, fontweight='bold')\n",
    "\n",
    "fig.text(x=-0.7, y=0.5, s='Frequency (kHz)', \n",
    "         transform=ax_echogram[0].transAxes,\n",
    "         fontsize=title_ls, \n",
    "         rotation=90, ha='center', va='center')\n",
    "fig.text(x=0.5,y=1.25,s='Echogram patterns',\n",
    "         transform=ax_echogram[1].transAxes,\n",
    "         fontsize=title_ls, ha='center')\n",
    "fig.text(x=0.5,y=1.1,s='Activation',\n",
    "         transform=axa.transAxes,\n",
    "         fontsize=title_ls, ha='center')\n",
    "fig.text(x=-0.17, y=0.5, s='Relative Strength', \n",
    "         transform=axa.transAxes,\n",
    "         fontsize=title_ls, \n",
    "         rotation=90, ha='center', va='center')\n",
    "\n",
    "\n",
    "# Add example axis for daily echogram patterns\n",
    "gs_ex = fig.add_gridspec(1,1, bottom=-0.13, top=0.12, left=0.28+0.1, right=0.34+0.1)\n",
    "ax_ex = fig.add_subplot(gs_ex[0,0])\n",
    "ax_ex.set_xticks([])\n",
    "ax_ex.set_yticks([])\n",
    "ax_ex.set_facecolor(np.ones(3)*0.6)\n",
    "\n",
    "trans = ax_ex.get_xaxis_transform()\n",
    "ax_ex.plot([0,1],[-0.2,-0.2],  # add a line for horizontal scale\n",
    "            color='k', lw=2.5, \n",
    "            transform=trans, clip_on=False)\n",
    "ax_ex.annotate('24 hr',             # annotate\n",
    "                xy=(0.2,-0.7), xycoords=trans, \n",
    "                ha='left', va='bottom', \n",
    "                fontsize=axis_ls)\n",
    "trans = ax_ex.get_yaxis_transform()\n",
    "ax_ex.plot([1.15,1.15],[0.2,1],  # add a line for vertical scale\n",
    "            color='k', lw=2.5, \n",
    "            transform=trans, clip_on=False)\n",
    "ax_ex.annotate('200 m',            # annotate\n",
    "                xy=(1.6,0.6), xycoords=trans, \n",
    "                ha='center', va='top', rotation=0,\n",
    "                fontsize=axis_ls)\n",
    "fig.text(x=-0.55, y=0.5, s='Scale:', \n",
    "         transform=ax_ex.transAxes,\n",
    "         fontsize=title_ls, \n",
    "         rotation=0, ha='center', va='center')\n",
    "\n",
    "plt.show()\n",
    "\n",
    "fig.savefig(os.path.join('../figs/fig_si_pca.png'),\n",
    "            dpi=300, bbox_inches = 'tight', pad_inches = 0.05)"
   ]
  },
  {
   "cell_type": "code",
   "execution_count": null,
   "metadata": {},
   "outputs": [],
   "source": []
  }
 ],
 "metadata": {
  "kernelspec": {
   "display_name": "ooi-echo-matrix-decomp",
   "language": "python",
   "name": "ooi-echo-matrix-decomp"
  },
  "language_info": {
   "codemirror_mode": {
    "name": "ipython",
    "version": 3
   },
   "file_extension": ".py",
   "mimetype": "text/x-python",
   "name": "python",
   "nbconvert_exporter": "python",
   "pygments_lexer": "ipython3",
   "version": "3.8.3"
  }
 },
 "nbformat": 4,
 "nbformat_minor": 2
}
